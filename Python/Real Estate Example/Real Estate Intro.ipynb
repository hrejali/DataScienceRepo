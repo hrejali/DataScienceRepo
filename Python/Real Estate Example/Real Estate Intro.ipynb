{
 "cells": [
  {
   "cell_type": "markdown",
   "metadata": {},
   "source": [
    "## Scenario\n",
    "\n",
    "Your cousin has made millions of dollars speculating on real estate. He's offered to become business partners with you because of your interest in data science. He'll supply the money, and you'll supply models that predict how much various houses are worth.\n",
    "\n",
    "You ask your cousin how he's predicted real estate values in the past. and he says it is just intuition. But more questioning reveals that he's identified price patterns from houses he has seen in the past, and he uses those patterns to make predictions for new houses he is considering.\n",
    "\n",
    "Machine learning works the same way.We'll start with a model called the Decision Tree. There are fancier models that give more accurate predictions. But decision trees are easy to understand, and they are the basic building block for some of the best models in data science.\n",
    "\n",
    "In general any machine learning work flow can be repersented as the following:\n",
    "\n",
    "<img src=\"../../images/ML-Pipeline.jpg\" style=\"width:400px\"/><br><br>\n",
    "\n",
    "In this tutorial we will show how to train, predict, and validate your model!\n",
    "\n",
    "## What is a Random forest?\n",
    "\n",
    "### Based on a decision trees\n",
    "\n",
    "Classification and Regression Trees or CART for short is a term introduced by Leo Breiman to refer to Decision Tree algorithms that can used for classification or regression predictive modeling problems.\n",
    "\n",
    "The aim at each stage is to associate specific targets (i.e., desired output values) with specific values of a particular variable.The result is a decision-tree in which each path identifies a combination of values associated with a particular prediction.\n",
    "\n",
    "Each non-leaf node in this tree is basically a decision maker. These nodes are called decision nodes. Each node carries out a specific test to determine where to go next. Depending on the outcome, you either go to the left branch or the right branch of this node. We keep doing this until we reach a leaf node. If we are constructing a classifier, each leaf node represents a class. For example, a simple decision tree is shown below.\n",
    "\n",
    "<img src=\"../../images/SimpleDT.JPG\" style=\"width:400px\"/><br><br>\n",
    "\n",
    "It divides houses into only two categories. The predicted price for any house under consideration is the historical average price of houses in the same category.\n",
    "\n",
    "We use data to decide how to break the houses into two groups, and then again to determine the predicted price in each group. This step of capturing patterns from data is called fitting or training the model. The data used to <b>fit</b> the model is called the <b>training data</b>.\n",
    "\n",
    "After the model has been fit, you can apply it to new data to predict prices of additional homes.\n",
    "\n",
    "You can capture more factors using a tree that has more \"splits.\" These are called \"deeper\" trees. A decision tree that also considers the total size of each house's lot might look like this:\n",
    "\n",
    "<img src=\"../../images/SimpleDT2.JPG\" style=\"width:400px\"/><br><br>\n",
    "\n",
    "\n",
    "\n",
    "You predict the price of any house by tracing through the decision tree, always picking the path corresponding to that house's characteristics. The predicted price for the house is at the bottom of the tree. The point at the bottom where we make a prediction is called a leaf.\n",
    "\n",
    "### Details on splitting\n",
    "\n",
    "We use the Gini Index as our cost function used to evaluate splits in the dataset. We minimize it.\n",
    "\n",
    "![alt text](http://i.imgur.com/IijgHbt.png \"Logo Title Text 1\")\n",
    "\n",
    "A split in the dataset involves one input attribute and one value for that attribute. It can be used to divide training patterns into two groups of rows.\n",
    "\n",
    "A Gini score gives an idea of how good a split is by how mixed the classes are in the two groups created by the split. A perfect separation results in a Gini score of 0, whereas the worst case split that results in 50/50 classes in each group results in a Gini score of 1.0 (for a 2 class problem).\n",
    "\n",
    "![alt text](https://image.slidesharecdn.com/decisiontree-151015165353-lva1-app6892/95/classification-using-decision-tree-41-638.jpg?cb=1444928106 \"Logo Title Text 1\")\n",
    "\n",
    "A Gini score gives an idea of how good a split is by how mixed the classes are in the two groups created \n",
    "by the split. A perfect separation results in a Gini score of 0, whereas the worst case split that \n",
    "results in 50/50 classes. We calculate it for every row and split the data accordingly in our binary tree. We repeat this process recursively. \n",
    "\n",
    "![alt text](https://image.slidesharecdn.com/decisiontree-151015165353-lva1-app6892/95/classification-using-decision-tree-14-638.jpg?cb=1444928106\n",
    " \"Logo Title Text 1\")\n",
    " \n",
    "Using decision trees, we can build a random forest\n",
    " \n",
    "One problem that might occur with one big (deep) single DT is that it can overfit. That is the DT can “memorize” the training set the way a person might memorize an Eye Chart.\n",
    "\n",
    "The point of RF is to prevent overfitting. It does this by creating random subsets of the features and building smaller (shallow) trees using the subsets and then it combines the subtrees.\n",
    "\n",
    "The downside of RF is it can be slow if you have a single process but it can be parallelized.\n",
    "\n",
    "### Majority Vote\n",
    "![alt text](https://i.ytimg.com/vi/ajTc5y3OqSQ/hqdefault.jpg \"Logo Title Text 1\")\n",
    "\n",
    "### Subset of data\n",
    "![alt text](https://mapr.com/blog/predicting-loan-credit-risk-using-apache-spark-machine-learning-random-forests/assets/blogimages/sparkmlrandomforest.png \"Logo Title Text 1\")\n",
    "\n",
    "We can treat real estate problem as a regression problem (time series) or classification\n",
    "\n",
    "Ignore the forest part for a moment, even a single tree can do regression. Each leaf holds a prediction value, which no longer is a class for regression. Given an input feature vector, you simply walk the tree as you'd do for a classification problem, and the resulting value in the leaf node is the prediction.\n"
   ]
  },
  {
   "cell_type": "markdown",
   "metadata": {},
   "source": [
    "## Evaluating the data"
   ]
  },
  {
   "cell_type": "markdown",
   "metadata": {},
   "source": [
    "The first step in any machine learning project is familiarize yourself with the data. You'll use the **Pandas** library for this. Pandas is the primary tool data scientists use for exploring and manipulating data. Most people abbreviate pandas in their code as pd. We do this with the command\n"
   ]
  },
  {
   "cell_type": "code",
   "execution_count": null,
   "metadata": {
    "collapsed": true
   },
   "outputs": [],
   "source": [
    "# import pandas and abbreviate it as pd\n",
    "import pandas as pd\n",
    "\n",
    "# Path of the file to read\n",
    "file_path = '../data/train.csv'\n",
    "\n",
    "# Fill in the line below to read the file into a variable home_data\n",
    "home_data = ____\n"
   ]
  },
  {
   "cell_type": "markdown",
   "metadata": {},
   "source": [
    "Pandas describe() method is a powerful tool for exploring the data \n",
    "\n",
    "Generates descriptive statistics that summarize the central tendency, dispersion and shape of a dataset’s distribution, excluding NaN values.\n",
    "\n",
    "Analyzes both numeric and object series, as well as DataFrame column sets of mixed data types. The output will vary depending on what is provided"
   ]
  },
  {
   "cell_type": "code",
   "execution_count": null,
   "metadata": {
    "collapsed": true
   },
   "outputs": [],
   "source": [
    "# Print summary statistics in next line\n",
    "_\n"
   ]
  },
  {
   "cell_type": "code",
   "execution_count": null,
   "metadata": {
    "collapsed": true
   },
   "outputs": [],
   "source": [
    "# What is the average lot size (rounded to nearest integer)?\n",
    "avg_lot_size = _\n",
    "\n",
    "\n",
    "# As of today, how old is the newest home (current year - the date in which it was built)\n",
    "newest_home_age = _\n",
    "\n",
    "\n",
    "#Hint: Run the describe command. Lot size is in the column called LotArea. Also look at YearBuilt. Remember to round lot size\n",
    "\n",
    "# Answers: \n",
    "#avg_lot_size = 10517\n",
    "#newest_home_age = 9"
   ]
  },
  {
   "cell_type": "markdown",
   "metadata": {},
   "source": [
    "## Keep Going\n",
    "We have explored some of pandas capabilities, lets move on!\n",
    "**[Data Selection](DataSelection.ipynb)**\n"
   ]
  }
 ],
 "metadata": {
  "kernelspec": {
   "display_name": "Python 3",
   "language": "python",
   "name": "python3"
  },
  "language_info": {
   "codemirror_mode": {
    "name": "ipython",
    "version": 3
   },
   "file_extension": ".py",
   "mimetype": "text/x-python",
   "name": "python",
   "nbconvert_exporter": "python",
   "pygments_lexer": "ipython3",
   "version": "3.6.3"
  }
 },
 "nbformat": 4,
 "nbformat_minor": 2
}
